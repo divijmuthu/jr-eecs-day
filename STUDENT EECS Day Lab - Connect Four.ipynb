{
 "cells": [
  {
   "cell_type": "markdown",
   "metadata": {},
   "source": [
    "<img src=\"Resources/eecs-day-header.png\" width=\"600px\" style=\"float: left\"/> <br><br>"
   ]
  },
  {
   "cell_type": "markdown",
   "metadata": {},
   "source": [
    "**Hosted by HKN**\n",
    "\n",
    "Written by Aayush Gupta and Owen Thompson (2022), with adaptations from Hermish Mehta (2019), Kenny Wang (2023)"
   ]
  },
  {
   "cell_type": "markdown",
   "metadata": {},
   "source": [
    "# Let's Learn Python! 🐍\n",
    "\n",
    "Hey there! Welcome to EECS Day! Today we're going to learn how to code with Python. Don't worry if you've never coded before - we'll take it slow and have fun! \n",
    "\n",
    "In this notebook, we'll start with the basics and work our way up to some cool challenges. Remember, it's totally fine if you don't finish everything - coding is about exploring and trying things out! 😊\n",
    "\n",
    "_<font color='green'>If you already know some Python, feel free to skip ahead to the fun challenges at the end!</font>_\n",
    "\n",
    "<font color='blue'>Don't be shy about asking questions if you get stuck - that's how everyone learns!</font>"
   ]
  },
  {
   "cell_type": "markdown",
   "metadata": {},
   "source": [
    "## How to Use This Notebook\n",
    "\n",
    "This notebook has little boxes called \"cells\" where you can write and run code. Look for these buttons in the toolbar:\n",
    "\n",
    "<img src=\"Resources/toolbar.png\" width=\"130px\" style=\"float: left\"/> <br><br>\n",
    "\n",
    "To run a cell, click on it and then click the \"Run Cell\" button (the one that looks like a play button ▶️), or use the shortcut: `SHIFT+ENTER`.\n",
    "\n",
    "Let's try it! Click on the cell below and run it:"
   ]
  },
  {
   "cell_type": "code",
   "execution_count": null,
   "metadata": {},
   "outputs": [],
   "source": [
    "# This is a code cell! Click here and then press SHIFT+ENTER to see what happens\n",
    "\n",
    "print(\"Hey there! Welcome to EECS Day! 🎉\")\n",
    "\n",
    "# Try writing your own message below\n",
    "print(\"_____________\")"
   ]
  },
  {
   "cell_type": "markdown",
   "metadata": {},
   "source": [
    "### Cool! You just ran your first Python code! 🚀\n",
    "\n",
    "The `print()` command shows messages on the screen. We'll be using this a lot to see what our code is doing.\n",
    "\n",
    "By the way, if you ever need to stop some code that's taking too long, use the square button ⏹️ in the toolbar.\n",
    "\n",
    "**<font color='blue'>Important tip: Make sure to run each cell as you go through this notebook, even if you don't have to change anything in it!</font>**"
   ]
  },
  {
   "cell_type": "markdown",
   "metadata": {},
   "source": [
    "<img src=\"Resources/warnings.png\" width=\"700px\" style=\"float: left\"/> <br><br>"
   ]
  },
  {
   "cell_type": "markdown",
   "metadata": {},
   "source": [
    "### Comments: Notes in Your Code\n",
    "\n",
    "Did you notice the lines that start with `#` in the code above? These are <font color='green'><b>comments</b></font> - notes that the computer ignores. They're just there to help you (and other people) understand what the code does.\n",
    "\n",
    "Comments are super helpful when you want to remember what your code does later on!"
   ]
  },
  {
   "cell_type": "markdown",
   "metadata": {},
   "source": [
    "<img src=\"Resources/variables.png\" width=\"400px\" style=\"float: left\"/> <br><br>"
   ]
  },
  {
   "cell_type": "markdown",
   "metadata": {},
   "source": [
    "## Variables: Storing Information\n",
    "\n",
    "Think of variables like labeled boxes where you can store different things - numbers, words, or even more complex stuff!\n",
    "\n",
    "To create a variable, you give it a name and use `=` to put something inside it. Let's try making some variables:"
   ]
  },
  {
   "cell_type": "code",
   "execution_count": null,
   "metadata": {},
   "outputs": [],
   "source": [
    "# Let's create some variables about YOU! Fill in the blanks with your info\n",
    "# For words or text, we use quotes (\"\") around them\n",
    "\n",
    "first_name = \"________\"  # Your first name here\n",
    "last_name = \"________\"   # Your last name here\n",
    "\n",
    "# We can combine variables using + (this is called \"adding strings together\")\n",
    "full_name = first_name + \" \" + last_name\n",
    "\n",
    "# What's your favorite color?\n",
    "favorite_color = \"Blue\"  # Change this to your favorite color!\n",
    "\n",
    "# What's your favorite number? For numbers, we don't use quotes\n",
    "favorite_number = 7  # Change this to your favorite number\n",
    "\n",
    "# Try adding another number below (just type a number, no quotes)\n",
    "your_age = 12  # Put your age here (or any number you want!)\n",
    "\n",
    "# Is pizza delicious? This is a True/False value (called a boolean)\n",
    "pizza_is_awesome = True  # Try changing to False if you disagree"
   ]
  },
  {
   "cell_type": "markdown",
   "metadata": {},
   "source": [
    "Great! Now let's see what's in our variables by printing them out:"
   ]
  },
  {
   "cell_type": "code",
   "execution_count": null,
   "metadata": {},
   "outputs": [],
   "source": [
    "# Let's see what's in our variables!\n",
    "print(\"Your name is:\", full_name)\n",
    "print(\"Your favorite color is:\", favorite_color)\n",
    "print(\"Your favorite number is:\", favorite_number)\n",
    "print(\"Your age is:\", your_age)\n",
    "print(\"Is pizza awesome?\", pizza_is_awesome)"
   ]
  },
  {
   "cell_type": "markdown",
   "metadata": {},
   "source": [
    "Now try creating and printing a new variable of your own! Some ideas: your hobby, favorite animal, or favorite food."
   ]
  },
  {
   "cell_type": "code",
   "execution_count": null,
   "metadata": {},
   "outputs": [],
   "source": [
    "# Create and print your own variable here!\n",
    "# For example: favorite_hobby = \"Playing video games\"\n",
    "\n",
    "# YOUR CODE HERE\n",
    "\n",
    "# Then print it\n",
    "# print(\"My favorite hobby is:\", favorite_hobby)"
   ]
  },
  {
   "cell_type": "markdown",
   "metadata": {},
   "source": [
    "<img src=\"Resources/lists.png\" width=\"600px\" style=\"float: left\"/> <br><br>"
   ]
  },
  {
   "cell_type": "markdown",
   "metadata": {},
   "source": [
    "## Lists: Storing Multiple Things\n",
    "\n",
    "Lists are like awesome containers that can hold lots of different things. Think of them like a backpack where you can put multiple items.\n",
    "\n",
    "To create a list, we use square brackets `[ ]` and separate items with commas.\n",
    "\n",
    "**<font color='blue'>Fun fact: In Python, we start counting from 0, not 1!</font>** So the first item in a list is at position 0, the second at position 1, and so on."
   ]
  },
  {
   "cell_type": "code",
   "execution_count": null,
   "metadata": {},
   "outputs": [],
   "source": [
    "# Let's make a list with your info\n",
    "my_info = [first_name, last_name, \"Hello!\"]\n",
    "\n",
    "# To get things from a list, we use [ ] with the position number\n",
    "# Remember: the first item is at position 0!\n",
    "print(\"The first item in my_info is:\", my_info[0])\n",
    "print(\"The second item in my_info is:\", my_info[1])\n",
    "print(\"The third item in my_info is:\", my_info[2])"
   ]
  },
  {
   "cell_type": "code",
   "execution_count": null,
   "metadata": {},
   "outputs": [],
   "source": [
    "# We can change things in a list too!\n",
    "# Check the initial conditions of the list using print: \n",
    "print(my_info[0])\n",
    "# Let's replace your first name with a nickname\n",
    "my_info[0] = \"______\"  # Put your nickname or another name here\n",
    "\n",
    "print(\"Updated first item:\", my_info[0])"
   ]
  },
  {
   "cell_type": "code",
   "execution_count": null,
   "metadata": {},
   "outputs": [],
   "source": [
    "# Let's see the whole list\n",
    "print(\"My info list:\", my_info)\n",
    "\n",
    "# We can check how many items are in a list with len()\n",
    "print(\"Number of items in my list:\", len(my_info))"
   ]
  },
  {
   "cell_type": "code",
   "execution_count": null,
   "metadata": {},
   "outputs": [],
   "source": [
    "# We can add more stuff to our list\n",
    "my_info = my_info + [favorite_color]  # This adds your favorite color to the list\n",
    "print(\"My updated list:\", my_info)"
   ]
  },
  {
   "cell_type": "code",
   "execution_count": null,
   "metadata": {},
   "outputs": [],
   "source": [
    "# Now you try! Add something else to the list\n",
    "# It could be your favorite number, a hobby, or anything else\n",
    "my_info = my_info + [\"skateboarding\"]  # Replace this with something about you\n",
    "\n",
    "print(\"My list with more stuff:\", my_info)"
   ]
  },
  {
   "cell_type": "markdown",
   "metadata": {},
   "source": [
    "## Let's Practice! 🚀\n",
    "\n",
    "Let's try a quick challenge with what we've learned so far.\n",
    "\n",
    "### Challenge 1: Days of the Week\n",
    "\n",
    "Can you:\n",
    "1. Make a list with all the days of the week\n",
    "2. Print just Wednesday (remember counting starts at 0!)\n",
    "3. Print a message about your two favorite days"
   ]
  },
  {
   "cell_type": "code",
   "execution_count": null,
   "metadata": {},
   "outputs": [],
   "source": [
    "# Write your code here!\n",
    "\n",
    "# Part 1: Create a list of days\n",
    "days = [\"Monday\", ...]\n",
    "\n",
    "# Part 2: Print Wednesday\n",
    "# Hint: Which position is Wednesday in the list? Remember we start counting at 0\n",
    "print(days[2])  # Is this right? Change the number if needed\n",
    "\n",
    "# Part 3: Print a message about your favorite days\n",
    "# For example: \"My favorite days are Saturday and Sunday.\"\n",
    "print(\"My favorite days are \" + days[5] + \" and \" + days[6] + \".\")"
   ]
  },
  {
   "cell_type": "markdown",
   "metadata": {},
   "source": [
    "<img src=\"Resources/conditionals.png\" width=\"500px\" style=\"float: left\"/> <br><br>"
   ]
  },
  {
   "cell_type": "markdown",
   "metadata": {},
   "source": [
    "## Making Decisions with If Statements\n",
    "\n",
    "Now let's learn how to make our code make decisions using `if` statements. These are like asking questions and doing different things based on the answers.\n",
    "\n",
    "**Super Important:** In Python, we use indentation (spaces at the beginning of lines) to show which code belongs to the if statement. The computer actually cares about these spaces!\n",
    "\n",
    "Let's try some examples:"
   ]
  },
  {
   "cell_type": "code",
   "execution_count": null,
   "metadata": {},
   "outputs": [],
   "source": [
    "# Let's create a number and see if it's positive, negative, or zero\n",
    "# Try changing this number and see what happens!\n",
    "num = 5\n",
    "\n",
    "if num < 0:  # Is the number less than zero?\n",
    "    print(\"This number is negative!\")\n",
    "elif num > 0:  # Otherwise, is it greater than zero?\n",
    "    print(\"This number is positive!\")\n",
    "else:  # If neither of those is true, it must be zero\n",
    "    print(\"This number is zero!\")\n",
    "    \n",
    "# We can also check for specific values\n",
    "if num == 7:  # The double equals sign == checks if things are equal\n",
    "    print(\"Hey, that's my lucky number!\")\n",
    "    \n",
    "if num != 10:  # The != checks if things are NOT equal\n",
    "    print(\"This number is not 10\")"
   ]
  },
  {
   "cell_type": "markdown",
   "metadata": {},
   "source": [
    "We can also combine conditions using `and` and `or`:"
   ]
  },
  {
   "cell_type": "code",
   "execution_count": null,
   "metadata": {},
   "outputs": [],
   "source": [
    "# Try changing this number to see what happens\n",
    "age = 12\n",
    "\n",
    "# Both conditions must be true with \"and\"\n",
    "if age >= 8 and age <= 13:\n",
    "    print(\"You're in middle school!\")\n",
    "\n",
    "# Only one condition needs to be true with \"or\"\n",
    "if age == 10 or age == 11:\n",
    "    print(\"You're either 10 or 11 years old!\")"
   ]
  },
  {
   "cell_type": "markdown",
   "metadata": {},
   "source": [
    "### Your Turn! \n",
    "\n",
    "Can you write an if statement that checks if your favorite number is even or odd? (Hint: it may be useful to use the `%` operator, which gives the remainder after division. For example, `10 % 2` equals 0 because 10 ÷ 2 = 5 with no remainder.)"
   ]
  },
  {
   "cell_type": "code",
   "execution_count": null,
   "metadata": {},
   "outputs": [],
   "source": [
    "# Write your code here to check if your favorite number is even or odd\n",
    "\n",
    "if favorite_number:  # This checks if the remainder when divided by 2 is 0\n",
    "    print(\"Your favorite number is even!\")\n",
    "else:\n",
    "    print(\"Your favorite number is odd!\")"
   ]
  },
  {
   "cell_type": "markdown",
   "metadata": {},
   "source": [
    "<img src=\"Resources/loops.png\" width=\"500px\" style=\"float: left\"/> <br><br>"
   ]
  },
  {
   "cell_type": "markdown",
   "metadata": {},
   "source": [
    "## Loops: Doing Things Over and Over\n",
    "\n",
    "Let's say we want to print the numbers from 0 to 4. We could do it like this:"
   ]
  },
  {
   "cell_type": "code",
   "execution_count": null,
   "metadata": {},
   "outputs": [],
   "source": [
    "print(0)\n",
    "print(1)\n",
    "print(2)\n",
    "print(3)\n",
    "print(4)"
   ]
  },
  {
   "cell_type": "markdown",
   "metadata": {},
   "source": [
    "But what if we wanted to print from 0 to 100? That would be a lot of typing! That's where loops come in. Loops let us repeat code without having to type it over and over.\n",
    "\n",
    "### For Loops\n",
    "\n",
    "<font color = 'red'>**Don't forget about indentation!** Just like with if statements, the code inside loops needs to be indented.</font>"
   ]
  },
  {
   "cell_type": "code",
   "execution_count": null,
   "metadata": {},
   "outputs": [],
   "source": [
    "# This loop prints numbers 0 through 4\n",
    "for i in range(0, 5):\n",
    "    print(i)"
   ]
  },
  {
   "cell_type": "markdown",
   "metadata": {},
   "source": [
    "Cool, right? Let's break down what's happening:\n",
    "\n",
    "- `for i in range(0, 5):` says \"repeat the following code, with i taking values from 0 to 4\" (note that the end number 5 isn't included)\n",
    "- Everything indented under the for loop will run once for each value of i\n",
    "- `range(start, stop)` creates numbers from `start` up to (but not including) `stop`"
   ]
  },
  {
   "cell_type": "markdown",
   "metadata": {},
   "source": [
    "### Your Turn! \n",
    "\n",
    "Can you make a loop that counts from 10 down to 1, and then prints \"Blast off!\"?"
   ]
  },
  {
   "cell_type": "code",
   "execution_count": null,
   "metadata": {},
   "outputs": [],
   "source": [
    "# Write your countdown loop here\n",
    "# Hint: instead of using just i, what can you do to make the countdown go backwards instead of forwards? \n",
    "for i in range(...):\n",
    "    print(i)\n",
    "print(\"Blast off! 🚀\")"
   ]
  },
  {
   "cell_type": "markdown",
   "metadata": {},
   "source": [
    "## Functions: Make Your Own Commands\n",
    "\n",
    "So far, we've used built-in functions like `print()` and `range()`. But the really cool thing about programming is that you can create your own functions!\n",
    "\n",
    "Functions are like mini-programs that you can call whenever you need them. They help you avoid repeating code and make your programs easier to understand."
   ]
  },
  {
   "cell_type": "code",
   "execution_count": null,
   "metadata": {},
   "outputs": [],
   "source": [
    "# Let's define a simple function that says hello to someone\n",
    "def say_hello(name):\n",
    "    print(\"Hello there,\", name, \"! How are you today?\")"
   ]
  },
  {
   "cell_type": "markdown",
   "metadata": {},
   "source": [
    "Nothing happened! That's because we just defined the function, but we didn't actually run it yet. Let's call our function, which we do through the brackets: "
   ]
  },
  {
   "cell_type": "code",
   "execution_count": null,
   "metadata": {},
   "outputs": [],
   "source": [
    "# Now let's call our function\n",
    "say_hello(first_name)\n",
    "\n",
    "# We can call it with different names too\n",
    "say_hello(\"SpongeBob\")\n",
    "say_hello(\"Dora\")"
   ]
  },
  {
   "cell_type": "markdown",
   "metadata": {},
   "source": [
    "Functions can also calculate things and send back (or \"return\") a result:"
   ]
  },
  {
   "cell_type": "code",
   "execution_count": null,
   "metadata": {},
   "outputs": [],
   "source": [
    "# This function adds two numbers and returns the result\n",
    "def add_numbers(a, b):\n",
    "    result = a + b\n",
    "    return result\n",
    "\n",
    "# Let's use our function\n",
    "sum1 = add_numbers(5, 3)\n",
    "print(\"5 + 3 =\", sum1)\n",
    "\n",
    "# We can use variables too\n",
    "sum2 = add_numbers(favorite_number, your_age)\n",
    "print(\"Your favorite number plus your age is:\", sum2)"
   ]
  },
  {
   "cell_type": "markdown",
   "metadata": {},
   "source": [
    "### Your Turn!\n",
    "\n",
    "Can you create a function that takes a person's name and their favorite animal, and prints a message about them?"
   ]
  },
  {
   "cell_type": "code",
   "execution_count": null,
   "metadata": {},
   "outputs": [],
   "source": [
    "# Create your function here\n",
    "def about_person(name, favorite_animal):\n",
    "    print(...)\n",
    "    print(name, \"loves the\", favorite_animal)\n",
    "\n",
    "# Now call your function\n",
    "about_person(\"Alex\", \"dog\")\n",
    "about_person(first_name, \"cat\")  # Try with your name and a different animal"
   ]
  },
  {
   "cell_type": "markdown",
   "metadata": {},
   "source": [
    "## Fun Challenges! 🎮\n",
    "\n",
    "Now that we've learned about variables, lists, if statements, loops, and functions, let's try some fun challenges that put everything together!"
   ]
  },
  {
   "cell_type": "markdown",
   "metadata": {},
   "source": [
    "### Challenge 2: Temperature Converter\n",
    "\n",
    "Let's create a function that converts temperatures from Fahrenheit to Celsius. The formula is:\n",
    "\n",
    "Celsius = (Fahrenheit - 32) × 5/9"
   ]
  },
  {
   "cell_type": "code",
   "execution_count": null,
   "metadata": {},
   "outputs": [],
   "source": [
    "def fahrenheit_to_celsius(fahrenheit_temp):\n",
    "    celsius_temp = ... # Your code here! \n",
    "    return celsius_temp\n",
    "\n",
    "# Let's test our function\n",
    "freezing_f = 32\n",
    "freezing_c = fahrenheit_to_celsius(freezing_f)\n",
    "print(freezing_f, \"degrees Fahrenheit is\", freezing_c, \"degrees Celsius\")\n",
    "\n",
    "# Body temperature\n",
    "body_temp_f = 98.6\n",
    "body_temp_c = fahrenheit_to_celsius(body_temp_f)\n",
    "print(body_temp_f, \"degrees Fahrenheit is\", body_temp_c, \"degrees Celsius\")\n",
    "\n",
    "# Your turn! Try another temperature\n",
    "your_temp = 75  # Change this to any temperature you want\n",
    "print(your_temp, \"degrees Fahrenheit is\", fahrenheit_to_celsius(your_temp), \"degrees Celsius\")"
   ]
  },
  {
   "cell_type": "markdown",
   "metadata": {},
   "source": [
    "### Challenge 3: Draw a Pattern\n",
    "\n",
    "Let's use loops to draw a cool pattern with stars (*):"
   ]
  },
  {
   "cell_type": "code",
   "execution_count": null,
   "metadata": {},
   "outputs": [],
   "source": [
    "def draw_triangle(size):\n",
    "    for i in range(...): # Your code here! \n",
    "        # Prints i stars on each line\n",
    "        print(\"*\" * i)\n",
    "        \n",
    "print(\"Here's a triangle with 5 rows:\")\n",
    "draw_triangle(5)\n",
    "\n",
    "print(\"\\nAnd here's one with 10 rows:\")\n",
    "draw_triangle(10)"
   ]
  },
  {
   "cell_type": "markdown",
   "metadata": {},
   "source": [
    "Try making your own shapes! Can you make an upside-down triangle or a square?"
   ]
  },
  {
   "cell_type": "code",
   "execution_count": null,
   "metadata": {},
   "outputs": [],
   "source": [
    "# Try creating an upside-down triangle here\n",
    "def draw_upside_down_triangle(size):\n",
    "    for i in range(...): # Your code here! \n",
    "        print(\"*\" * i)\n",
    "        \n",
    "print(\"Upside down triangle with 5 rows:\")\n",
    "draw_upside_down_triangle(5)"
   ]
  },
  {
   "cell_type": "code",
   "execution_count": null,
   "metadata": {},
   "outputs": [],
   "source": [
    "# Try creating a square here\n",
    "def draw_square(size):\n",
    "    for i in range(...):\n",
    "        print(\"*\" * size)\n",
    "        \n",
    "print(\"Square with sides of 5:\")\n",
    "draw_square(5)"
   ]
  },
  {
   "cell_type": "markdown",
   "metadata": {},
   "source": [
    "### Challenge 4: FizzBuzz\n",
    "\n",
    "This is a classic coding challenge! Write a function that counts from 1 to a given number, but:\n",
    "- For multiples of 3, print \"Fizz\" instead of the number\n",
    "- For multiples of 5, print \"Buzz\" instead of the number\n",
    "- For multiples of both 3 and 5, print \"FizzBuzz\""
   ]
  },
  {
   "cell_type": "code",
   "execution_count": null,
   "metadata": {},
   "outputs": [],
   "source": [
    "def fizz_buzz(n):\n",
    "    # Loop through numbers 1 to n\n",
    "    for i in range(____):\n",
    "        # Check if the number is divisible by both 3 and 5\n",
    "        if _____:\n",
    "            print(\"FizzBuzz\")\n",
    "        # Check if the number is divisible by 3\n",
    "        elif ______:\n",
    "            print(\"Fizz\")\n",
    "        # Check if the number is divisible by 5\n",
    "        elif ______:\n",
    "            print(\"Buzz\")\n",
    "        # Otherwise, just print the number\n",
    "        else:\n",
    "            print(i)\n",
    "\n",
    "# Let's try it out!\n",
    "fizz_buzz(20)"
   ]
  },
  {
   "cell_type": "markdown",
   "metadata": {},
   "source": [
    "### Challenge 5: Fun Frogs (hard!)\n",
    "\n",
    "Your friend Divij met a magical wizard, who gave him an enchanted frog. The wizard said the following: \n",
    "\n",
    "*Every day, this special frog will duplicate itself, doubling its population until the end of time (or frog world domination)*. \n",
    "\n",
    "To plan ahead, Divij would like to have access to a list containing the number of magical frogs he'll have over the next ten days, starting from Day 0. For example, for the first 3 days, Divij would like the list [1, 2, 4]. Help Divij write the function below to do so! "
   ]
  },
  {
   "cell_type": "code",
   "execution_count": null,
   "metadata": {},
   "outputs": [],
   "source": [
    "num_days = 10\n",
    "# The list we'll add to containing the total number of frogs on each day. Recall Divij starts with 1 frog on Day 0.\n",
    "num_frogs = [1]\n",
    "# How many days will we be adding to our list? \n",
    "for i in range(___):\n",
    "    # HINT: each loop represents a day of the enchanted frogs. What do we need to add our list every day? \n",
    "    # HINT 2: List access notation (which starts at 0) will come in handy; the 1st element of num_frogs can\n",
    "    # be accessed through num_frogs[0], the second through num_frogs[1], and so on. \n",
    "    num_frogs = ____ + [____ * ____]\n",
    "print(num_frogs)"
   ]
  },
  {
   "cell_type": "markdown",
   "metadata": {},
   "source": [
    "## Congratulations! 🎉\n",
    "\n",
    "You've made it to the end of our Python adventure! Here's a summary of what you've learned:\n",
    "\n",
    "- Variables: Storing information in boxes with names\n",
    "- Lists: Storing multiple pieces of information in one place\n",
    "- If statements: Making decisions in your code\n",
    "- Loops: Repeating code without typing it over and over\n",
    "- Functions: Creating your own commands to use whenever you need them\n",
    "\n",
    "These are the building blocks that all programmers use to create amazing things - from video games to websites to apps on your phone!\n",
    "\n",
    "### What's Next?\n",
    "\n",
    "If you enjoyed coding in Python, here are some ways to keep learning:\n",
    "\n",
    "1. Try coming up with your own challenges and projects\n",
    "2. Look for free online Python tutorials for kids\n",
    "3. Check if your school has a coding club you can join\n",
    "4. Visit websites like Code.org or Scratch to learn more coding concepts\n",
    "\n",
    "Remember, learning to code is like learning a new language - it takes practice, but it's a lot of fun! Keep experimenting and don't be afraid to make mistakes. That's how everyone learns!\n",
    "\n",
    "**Happy coding!** 🐍💻"
   ]
  },
  {
   "cell_type": "markdown",
   "metadata": {},
   "source": []
  }
 ],
 "metadata": {
  "kernelspec": {
   "display_name": "Python 3",
   "language": "python",
   "name": "python3"
  },
  "language_info": {
   "codemirror_mode": {
    "name": "ipython",
    "version": 3
   },
   "file_extension": ".py",
   "mimetype": "text/x-python",
   "name": "python",
   "nbconvert_exporter": "python",
   "pygments_lexer": "ipython3",
   "version": "3.11.11"
  }
 },
 "nbformat": 4,
 "nbformat_minor": 4
}
